{
 "cells": [
  {
   "cell_type": "code",
   "execution_count": 6,
   "metadata": {},
   "outputs": [
    {
     "name": "stdout",
     "output_type": "stream",
     "text": [
      "/project/bootcamp/cslage/ats_data/20190416/ptc_craig_config_lights_off\n"
     ]
    }
   ],
   "source": [
    "import matplotlib\n",
    "matplotlib.use(\"Agg\")\n",
    "import matplotlib.pyplot as plt\n",
    "import numpy as np\n",
    "import astropy.io.fits as pf\n",
    "import sys, glob\n",
    "\n",
    "#thedir='/project/bootcamp/cslage/ats_data/20190416/ptc_kirk_config/' # Current voltages\n",
    "thedir='/project/bootcamp/cslage/ats_data/20190416/ptc_craig_config_lights_off/' # BNL/ITL voltages\n",
    "%cd $thedir\n"
   ]
  },
  {
   "cell_type": "code",
   "execution_count": 7,
   "metadata": {
    "scrolled": true
   },
   "outputs": [
    {
     "name": "stdout",
     "output_type": "stream",
     "text": [
      "['AT_C_20190416_000047_exp_10.fits', 'AT_C_20190416_000056_exp_50.fits', 'AT_C_20190416_000059_exp_70.fits', 'AT_C_20190416_000058_exp_60.fits', 'AT_C_20190416_000052_exp_30.fits', 'AT_C_20190416_000054_exp_40.fits', 'AT_C_20190416_000049_exp_20.fits', 'AT_C_20190416_000045_exp_0.fits', 'AT_C_20190416_000061_exp_80.fits', 'AT_C_20190416_000062_exp_80.fits', 'AT_C_20190416_000046_exp_0.fits', 'AT_C_20190416_000063_exp_90.fits', 'AT_C_20190416_000053_exp_40.fits', 'AT_C_20190416_000048_exp_10.fits', 'AT_C_20190416_000060_exp_70.fits', 'AT_C_20190416_000066_exp_100.fits', 'AT_C_20190416_000057_exp_60.fits', 'AT_C_20190416_000064_exp_90.fits', 'AT_C_20190416_000050_exp_20.fits', 'AT_C_20190416_000051_exp_30.fits', 'AT_C_20190416_000055_exp_50.fits', 'AT_C_20190416_000065_exp_100.fits']\n",
      "40\n"
     ]
    }
   ],
   "source": [
    "files = glob.glob('AT_C_20190416_000???_exp_*0.fits')\n",
    "name = files[12][25:27]\n",
    "print(files)\n",
    "print(name)\n"
   ]
  },
  {
   "cell_type": "code",
   "execution_count": 8,
   "metadata": {},
   "outputs": [
    {
     "name": "stdout",
     "output_type": "stream",
     "text": [
      "AT_C_20190416_000053_exp_40.fits\n",
      "Segment Segment10 done\n",
      "Segment Segment11 done\n",
      "Segment Segment12 done\n",
      "Segment Segment13 done\n",
      "Segment Segment14 done\n",
      "Segment Segment15 done\n",
      "Segment Segment16 done\n",
      "Segment Segment17 done\n",
      "Segment Segment07 done\n",
      "Segment Segment06 done\n",
      "Segment Segment05 done\n",
      "Segment Segment04 done\n",
      "Segment Segment03 done\n",
      "Segment Segment02 done\n",
      "Segment Segment01 done\n",
      "Segment Segment00 done\n"
     ]
    }
   ],
   "source": [
    "xstart = 505\n",
    "xstop = 542\n",
    "ov_start = 512\n",
    "ystart = 200\n",
    "ystop = 1800\n",
    "xaxis = np.linspace(xstart,xstop-1,xstop-xstart)\n",
    "\n",
    "hdulist = pf.open(files[0], mode='readonly', do_not_scale_image_data=True)\n",
    "hdr18=hdulist[18].header\n",
    "Vph = hdr18['PCK_HIP']\n",
    "Vpl = hdr18['PCK_LOWP']\n",
    "Vsh = hdr18['SCK_HIP']\n",
    "Vsl = hdr18['SCK_LOWP']\n",
    "Vog = hdr18['OGOV']\n",
    "Vbb = hdr18['HVBIAS_V']\n",
    "\n",
    "for file in [files[12]]:\n",
    "    print(file)\n",
    "    name = file[25:27]\n",
    "    hdulist = pf.open(file, mode='readonly', do_not_scale_image_data=True)\n",
    "    plt.figure(figsize=(15,15))\n",
    "    plt.subplots_adjust(hspace = 0.5, wspace = 0.5)\n",
    "    plt.suptitle(\"Serial CTE by segment - ITL AuxTel CCD 098\\n Vph=%.2f; Vpl=%.2f; Vsh=%.2f; Vsl=%.2f; Vog=%.2f; Vbb=%.2f\"%(Vph,Vpl,Vsh,Vsl,Vog,Vbb), fontsize = 16)\n",
    "    for segment in range(16):\n",
    "            #try:\n",
    "            plt.subplot(4,4,segment+1)\n",
    "            imhdr=hdulist[segment+1].header\n",
    "            extname = imhdr['EXTNAME']\n",
    "            plt.title(\"CTE - %s\"%extname)\n",
    "            data = np.array(hdulist[segment+1].data + 32768, dtype = np.int32)\n",
    "            flat_overscan = np.mean(np.array(data[:,xstop-8:xstop]),axis = 1)\n",
    "            cte_data = ((np.transpose(np.transpose(data) - flat_overscan))[ystart:ystop,:].mean(axis=0))[xstart:xstop]\n",
    "            cte_std = ((np.transpose(np.transpose(data) - flat_overscan))[ystart:ystop,:].std(axis=0) / np.sqrt(float(ystop-ystart)))[xstart:xstop]\n",
    "            cti = np.median((np.transpose(np.transpose(data) - flat_overscan))[ystart:ystop,ov_start]\\\n",
    "            / (np.transpose(np.transpose(data) - flat_overscan))[ystart:ystop,ov_start-1]) / ov_start\n",
    "\n",
    "            plt.scatter(xaxis, cte_data, color = 'blue')\n",
    "            plt.errorbar(xaxis, cte_data, yerr=cte_std)\n",
    "            plt.text(xstart + 8, 20000, \"CTI = %.2E\"%cti, fontsize = 12)\n",
    "            plt.yscale('log',nonposy='clip')\n",
    "            plt.ylim(.01, 200000)\n",
    "            plt.xticks([510,520,530,540])\n",
    "            plt.xlabel(\"X (First overscan = 512)\")\n",
    "            plt.ylabel(\"Signal(ADU)\")\n",
    "            print(\"Segment %s done\"%extname)\n",
    "            #except:\n",
    "            #continue\n",
    "    plt.savefig(thedir+\"Serial_CTE_%s_16Apr19.pdf\"%name)\n",
    "    plt.clf()\n"
   ]
  },
  {
   "cell_type": "code",
   "execution_count": null,
   "metadata": {
    "collapsed": true
   },
   "outputs": [],
   "source": []
  }
 ],
 "metadata": {
  "kernelspec": {
   "display_name": "Python 3",
   "language": "python",
   "name": "python3"
  },
  "language_info": {
   "codemirror_mode": {
    "name": "ipython",
    "version": 3
   },
   "file_extension": ".py",
   "mimetype": "text/x-python",
   "name": "python",
   "nbconvert_exporter": "python",
   "pygments_lexer": "ipython3",
   "version": "3.6.6"
  }
 },
 "nbformat": 4,
 "nbformat_minor": 2
}
